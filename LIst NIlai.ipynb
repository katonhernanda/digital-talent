{
 "cells": [
  {
   "cell_type": "code",
   "execution_count": 3,
   "metadata": {},
   "outputs": [
    {
     "name": "stdout",
     "output_type": "stream",
     "text": [
      "[97, 94, 25, 8, 27, 84, 26, 6, 23, 62, 7, 68, 13, 47, 71, 10, 72, 74, 61, 65, 63, 87, 32, 26, 38, 61, 56, 27, 33, 29, 18, 49, 96, 91, 96, 89, 27, 90, 38, 17, 63, 78, 10, 42, 20, 6, 80, 71, 93, 19, 2, 33, 99, 29, 35, 52, 4, 58, 17, 28, 23, 62, 27, 86, 17, 85, 24, 81, 5, 7, 17, 50, 19, 10, 31, 70, 80, 81, 91, 48, 11, 14, 68, 30, 88, 76, 55, 45, 23, 42, 17, 82, 37, 8, 35, 64, 57, 96, 55, 30, 92, 4, 57, 82, 32, 72, 13, 9, 18, 41, 8, 63, 3, 34, 87, 55, 45, 95, 41, 43, 41, 38, 43, 45, 67, 25, 40, 81, 95, 27, 48, 76, 96, 9, 60, 15, 50, 56, 77, 57, 4, 59, 11, 56, 39, 71, 29, 70, 49, 38, 60, 99, 83, 64, 2, 59, 74, 37, 91, 28, 58, 94, 35, 3, 82, 48, 21, 13, 5, 97, 88, 68, 98, 67, 94, 31, 66, 30, 11, 96, 7, 49, 12, 49, 7, 28, 1, 78, 30, 65, 90, 56, 49, 93, 26, 93, 5, 10, 22, 75, 36, 12, 22, 9, 22, 85, 23, 84, 93, 48, 88, 41, 33, 38, 18, 69, 82, 47, 40, 77, 39, 30, 29, 92, 85, 78, 95, 42, 50, 71, 11, 47, 87, 91, 62, 47, 54, 86, 24, 35, 8, 33, 20, 80, 78, 20, 95, 71, 90, 54]\n"
     ]
    }
   ],
   "source": [
    "import random\n",
    "\n",
    "# GENERATE RANDOM\n",
    "nilaiTugas = []\n",
    "for i in range(250):\n",
    "    nilaiTugas.append(random.randrange(1,100,1))\n",
    "\n",
    "print(nilaiTugas)\n",
    "\n",
    "# TAMPILKAN:\n",
    "# ganjil\n",
    "# nilai > 70\n",
    "# standar deviasi\n",
    "# maksimum\n",
    "# minimum\n",
    "# modus"
   ]
  },
  {
   "cell_type": "code",
   "execution_count": 4,
   "metadata": {},
   "outputs": [
    {
     "name": "stdout",
     "output_type": "stream",
     "text": [
      "Nilai bilangan Ganjil = [97, 25, 27, 23, 7, 13, 47, 71, 61, 65, 63, 87, 61, 27, 33, 29, 49, 91, 89, 27, 17, 63, 71, 93, 19, 33, 99, 29, 35, 17, 23, 27, 17, 85, 81, 5, 7, 17, 19, 31, 81, 91, 11, 55, 45, 23, 17, 37, 35, 57, 55, 57, 13, 9, 41, 63, 3, 87, 55, 45, 95, 41, 43, 41, 43, 45, 67, 25, 81, 95, 27, 9, 15, 77, 57, 59, 11, 39, 71, 29, 49, 99, 83, 59, 37, 91, 35, 3, 21, 13, 5, 97, 67, 31, 11, 7, 49, 49, 7, 1, 65, 49, 93, 93, 5, 75, 9, 85, 23, 93, 41, 33, 69, 47, 77, 39, 29, 85, 95, 71, 11, 47, 87, 91, 47, 35, 33, 95, 71]\n"
     ]
    }
   ],
   "source": [
    "ganjil = []\n",
    "for n in nilaiTugas:\n",
    "    if n%2==1:\n",
    "        ganjil.append(n)\n",
    "print (\"Nilai bilangan Ganjil =\",ganjil)"
   ]
  },
  {
   "cell_type": "code",
   "execution_count": 5,
   "metadata": {},
   "outputs": [
    {
     "name": "stdout",
     "output_type": "stream",
     "text": [
      "[97, 94, 84, 71, 72, 74, 87, 96, 91, 96, 89, 90, 78, 80, 71, 93, 99, 86, 85, 81, 80, 81, 91, 88, 76, 82, 96, 92, 82, 72, 87, 95, 81, 95, 76, 96, 77, 71, 99, 83, 74, 91, 94, 82, 97, 88, 98, 94, 96, 78, 90, 93, 93, 75, 85, 84, 93, 88, 82, 77, 92, 85, 78, 95, 71, 87, 91, 86, 80, 78, 95, 71, 90]\n",
      "----------------------------------------------------------------------------------------------------------------------\n",
      "jumlah lebih dari 70 = 73\n"
     ]
    }
   ],
   "source": [
    "lebih70 = []\n",
    "for n in nilaiTugas:\n",
    "    if n>70:\n",
    "        lebih70.append(n)   \n",
    "print(lebih70)\n",
    "print(\"----------------------------------------------------------------------------------------------------------------------\")\n",
    "print(\"jumlah lebih dari 70 =\", len(lebih70) )       "
   ]
  },
  {
   "cell_type": "code",
   "execution_count": 6,
   "metadata": {},
   "outputs": [
    {
     "name": "stdout",
     "output_type": "stream",
     "text": [
      "49.092\n"
     ]
    },
    {
     "ename": "NameError",
     "evalue": "name 'selisih_sum' is not defined",
     "output_type": "error",
     "traceback": [
      "\u001b[1;31m---------------------------------------------------------------------------\u001b[0m",
      "\u001b[1;31mNameError\u001b[0m                                 Traceback (most recent call last)",
      "\u001b[1;32m<ipython-input-6-b564a84ddc8e>\u001b[0m in \u001b[0;36m<module>\u001b[1;34m()\u001b[0m\n\u001b[0;32m     12\u001b[0m     \u001b[0mx\u001b[0m \u001b[1;33m=\u001b[0m \u001b[0mn\u001b[0m \u001b[1;33m-\u001b[0m \u001b[0mrata\u001b[0m\u001b[1;33m\u001b[0m\u001b[0m\n\u001b[0;32m     13\u001b[0m     \u001b[0mkuadrat\u001b[0m \u001b[1;33m=\u001b[0m \u001b[0mx\u001b[0m\u001b[1;33m**\u001b[0m\u001b[1;36m2\u001b[0m\u001b[1;33m\u001b[0m\u001b[0m\n\u001b[1;32m---> 14\u001b[1;33m     \u001b[0mselisih\u001b[0m \u001b[1;33m=\u001b[0m \u001b[0mselisih_sum\u001b[0m \u001b[1;33m+\u001b[0m \u001b[0mkuadrat\u001b[0m\u001b[1;33m\u001b[0m\u001b[0m\n\u001b[0m\u001b[0;32m     15\u001b[0m \u001b[1;33m\u001b[0m\u001b[0m\n\u001b[0;32m     16\u001b[0m \u001b[0msd\u001b[0m \u001b[1;33m=\u001b[0m \u001b[1;33m(\u001b[0m\u001b[0mselisih\u001b[0m \u001b[1;33m/\u001b[0m \u001b[1;33m(\u001b[0m\u001b[0mlen\u001b[0m\u001b[1;33m(\u001b[0m\u001b[0mnilaiTugas\u001b[0m\u001b[1;33m)\u001b[0m\u001b[1;33m-\u001b[0m\u001b[1;36m1\u001b[0m\u001b[1;33m)\u001b[0m\u001b[1;33m)\u001b[0m\u001b[1;33m**\u001b[0m\u001b[1;33m(\u001b[0m\u001b[1;36m0.5\u001b[0m\u001b[1;33m)\u001b[0m\u001b[1;33m\u001b[0m\u001b[0m\n",
      "\u001b[1;31mNameError\u001b[0m: name 'selisih_sum' is not defined"
     ]
    }
   ],
   "source": [
    "# mencari rata-rata\n",
    "total = 0\n",
    "for n in nilaiTugas:\n",
    "    total = total + float(n)\n",
    "    \n",
    "rata = total / len(nilaiTugas)\n",
    "print(rata)\n",
    "\n",
    "#menghitung standar deviasi\n",
    "selisih = 0\n",
    "for n in nilaiTugas:\n",
    "    x = n - rata\n",
    "    kuadrat = x**2\n",
    "    selisih = selisih_sum + kuadrat\n",
    "    \n",
    "sd = (selisih / (len(nilaiTugas)-1))**(0.5)\n",
    "\n",
    "# menampilkan standar deviasi\n",
    "print(\"Standard Deviasi =\",sd)"
   ]
  },
  {
   "cell_type": "code",
   "execution_count": 7,
   "metadata": {},
   "outputs": [
    {
     "name": "stdout",
     "output_type": "stream",
     "text": [
      "Nilai Maksimal = 99\n"
     ]
    }
   ],
   "source": [
    "maks=0\n",
    "for n in nilaiTugas:\n",
    "    if n>maks:\n",
    "        maks=n\n",
    "print(\"Nilai Maksimal =\", maks)"
   ]
  },
  {
   "cell_type": "code",
   "execution_count": 8,
   "metadata": {},
   "outputs": [
    {
     "name": "stdout",
     "output_type": "stream",
     "text": [
      "Nilai Minimum = 0\n"
     ]
    }
   ],
   "source": [
    "maks=0\n",
    "for n in nilaiTugas:\n",
    "    if n<maks:\n",
    "        maks=n\n",
    "print(\"Nilai Minimum =\",maks)"
   ]
  },
  {
   "cell_type": "code",
   "execution_count": 9,
   "metadata": {},
   "outputs": [
    {
     "name": "stdout",
     "output_type": "stream",
     "text": [
      "Nilai Modus = 27\n"
     ]
    }
   ],
   "source": [
    "x={} #inialisasi dictionary\n",
    "modus=\" \"\n",
    "for i in nilaiTugas:\n",
    "    if i in x: \n",
    "        x[i]+=1\n",
    "    else:  \n",
    "        x[i]=1\n",
    "maksim=0\n",
    "for a in x:\n",
    "    if x[a]>maksim:\n",
    "        maksim=x[a]\n",
    "        modus=a#jika jumlah kata melebihi satu, maka print kata tersebut\n",
    "print(\"Nilai Modus =\",modus)"
   ]
  }
 ],
 "metadata": {
  "kernelspec": {
   "display_name": "Python 3",
   "language": "python",
   "name": "python3"
  },
  "language_info": {
   "codemirror_mode": {
    "name": "ipython",
    "version": 3
   },
   "file_extension": ".py",
   "mimetype": "text/x-python",
   "name": "python",
   "nbconvert_exporter": "python",
   "pygments_lexer": "ipython3",
   "version": "3.6.3"
  }
 },
 "nbformat": 4,
 "nbformat_minor": 2
}
