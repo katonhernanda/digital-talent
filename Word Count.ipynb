{
 "cells": [
  {
   "cell_type": "code",
   "execution_count": 2,
   "metadata": {},
   "outputs": [
    {
     "name": "stdout",
     "output_type": "stream",
     "text": [
      "Barcelona berhasil merebut posisi puncak klasemen La Liga Spanyol seusai menang 4-2 atas Sevilla pada pertandingan pekan kesembilan di Stadion Camp Nou, Sabtu (20/10/2018) atau Minggu dini hari WIB. Barcelona membuka keunggulan pada menit ke-2 melalui gol yang dicetak oleh Philippe Coutinho. Lionel Messi menggandakan keunggulan Barcelona, 10 menit berselang.  Namun, nahas bagi Barcelona, karena Messi harus ditarik keluar pada menit ke-26 setelah mengalami cedera. Tanpa Messi, skor 2-0 bertahan hingga babak pertama berakhir.\n"
     ]
    }
   ],
   "source": [
    "paragraf = \"Barcelona berhasil merebut posisi puncak klasemen La Liga Spanyol seusai menang 4-2 atas Sevilla pada pertandingan pekan kesembilan di Stadion Camp Nou, Sabtu (20/10/2018) atau Minggu dini hari WIB. Barcelona membuka keunggulan pada menit ke-2 melalui gol yang dicetak oleh Philippe Coutinho. Lionel Messi menggandakan keunggulan Barcelona, 10 menit berselang.  Namun, nahas bagi Barcelona, karena Messi harus ditarik keluar pada menit ke-26 setelah mengalami cedera. Tanpa Messi, skor 2-0 bertahan hingga babak pertama berakhir.\"\n",
    "print(paragraf)"
   ]
  },
  {
   "cell_type": "code",
   "execution_count": 4,
   "metadata": {},
   "outputs": [
    {
     "name": "stdout",
     "output_type": "stream",
     "text": [
      "barcelona berhasil merebut posisi puncak klasemen la liga spanyol seusai menang 4-2 atas sevilla pada pertandingan pekan kesembilan di stadion camp nou, sabtu (20/10/2018) atau minggu dini hari wib. barcelona membuka keunggulan pada menit ke-2 melalui gol yang dicetak oleh philippe coutinho. lionel messi menggandakan keunggulan barcelona, 10 menit berselang.  namun, nahas bagi barcelona, karena messi harus ditarik keluar pada menit ke-26 setelah mengalami cedera. tanpa messi, skor 2-0 bertahan hingga babak pertama berakhir.\n"
     ]
    }
   ],
   "source": [
    "# ganti huruf kecil\n",
    "paragraflower = paragraf.lower()\n",
    "print(paragraflower)"
   ]
  },
  {
   "cell_type": "code",
   "execution_count": 8,
   "metadata": {},
   "outputs": [
    {
     "name": "stdout",
     "output_type": "stream",
     "text": [
      "barcelona berhasil merebut posisi puncak klasemen la liga spanyol seusai menang 4 2 atas sevilla pada pertandingan pekan kesembilan di stadion camp nou  sabtu  20 10 2018  atau minggu dini hari wib  barcelona membuka keunggulan pada menit ke 2 melalui gol yang dicetak oleh philippe coutinho  lionel messi menggandakan keunggulan barcelona  10 menit berselang   namun  nahas bagi barcelona  karena messi harus ditarik keluar pada menit ke 26 setelah mengalami cedera  tanpa messi  skor 2 0 bertahan hingga babak pertama berakhir \n"
     ]
    }
   ],
   "source": [
    "# hilangkan tanda baca\n",
    "tandabaca=\",.-()/\"\n",
    "for char in tandabaca:\n",
    "    paragraflower = paragraflower.replace(char,\" \")\n",
    "print(paragraflower)"
   ]
  },
  {
   "cell_type": "code",
   "execution_count": 10,
   "metadata": {},
   "outputs": [
    {
     "name": "stdout",
     "output_type": "stream",
     "text": [
      "['barcelona', 'berhasil', 'merebut', 'posisi', 'puncak', 'klasemen', 'la', 'liga', 'spanyol', 'seusai', 'menang', '4', '2', 'atas', 'sevilla', 'pada', 'pertandingan', 'pekan', 'kesembilan', 'di', 'stadion', 'camp', 'nou', 'sabtu', '20', '10', '2018', 'atau', 'minggu', 'dini', 'hari', 'wib', 'barcelona', 'membuka', 'keunggulan', 'pada', 'menit', 'ke', '2', 'melalui', 'gol', 'yang', 'dicetak', 'oleh', 'philippe', 'coutinho', 'lionel', 'messi', 'menggandakan', 'keunggulan', 'barcelona', '10', 'menit', 'berselang', 'namun', 'nahas', 'bagi', 'barcelona', 'karena', 'messi', 'harus', 'ditarik', 'keluar', 'pada', 'menit', 'ke', '26', 'setelah', 'mengalami', 'cedera', 'tanpa', 'messi', 'skor', '2', '0', 'bertahan', 'hingga', 'babak', 'pertama', 'berakhir']\n"
     ]
    }
   ],
   "source": [
    "# pisahkan kata \n",
    "listkata = paragraflower.split()\n",
    "print(listkata)"
   ]
  },
  {
   "cell_type": "code",
   "execution_count": 15,
   "metadata": {},
   "outputs": [
    {
     "name": "stdout",
     "output_type": "stream",
     "text": [
      "barcelona : 5\n",
      "berhasil : 2\n",
      "merebut : 2\n",
      "posisi : 2\n",
      "puncak : 2\n",
      "klasemen : 2\n",
      "la : 2\n",
      "liga : 2\n",
      "spanyol : 2\n",
      "seusai : 2\n",
      "menang : 2\n",
      "4 : 2\n",
      "2 : 4\n",
      "atas : 2\n",
      "sevilla : 2\n",
      "pada : 4\n",
      "pertandingan : 2\n",
      "pekan : 2\n",
      "kesembilan : 2\n",
      "di : 2\n",
      "stadion : 2\n",
      "camp : 2\n",
      "nou : 2\n",
      "sabtu : 2\n",
      "20 : 2\n",
      "10 : 3\n",
      "2018 : 2\n",
      "atau : 2\n",
      "minggu : 2\n",
      "dini : 2\n",
      "hari : 2\n",
      "wib : 2\n",
      "membuka : 2\n",
      "keunggulan : 3\n",
      "menit : 4\n",
      "ke : 3\n",
      "melalui : 2\n",
      "gol : 2\n",
      "yang : 2\n",
      "dicetak : 2\n",
      "oleh : 2\n",
      "philippe : 2\n",
      "coutinho : 2\n",
      "lionel : 2\n",
      "messi : 4\n",
      "menggandakan : 2\n",
      "berselang : 2\n",
      "namun : 2\n",
      "nahas : 2\n",
      "bagi : 2\n",
      "karena : 2\n",
      "harus : 2\n",
      "ditarik : 2\n",
      "keluar : 2\n",
      "26 : 2\n",
      "setelah : 2\n",
      "mengalami : 2\n",
      "cedera : 2\n",
      "tanpa : 2\n",
      "skor : 2\n",
      "0 : 2\n",
      "bertahan : 2\n",
      "hingga : 2\n",
      "babak : 2\n",
      "pertama : 2\n",
      "berakhir : 2\n"
     ]
    }
   ],
   "source": [
    "# list kata ke dictionary \n",
    "dic = {}  #dictionary\n",
    "\n",
    "for kata in listkata: \n",
    "    if kata not in di:\n",
    "        dic[kata]=0\n",
    "    dic[kata] = di[kata] + 1\n",
    "for k,v in dic.items():\n",
    "    print(k,':',v)"
   ]
  }
 ],
 "metadata": {
  "kernelspec": {
   "display_name": "Python 3",
   "language": "python",
   "name": "python3"
  },
  "language_info": {
   "codemirror_mode": {
    "name": "ipython",
    "version": 3
   },
   "file_extension": ".py",
   "mimetype": "text/x-python",
   "name": "python",
   "nbconvert_exporter": "python",
   "pygments_lexer": "ipython3",
   "version": "3.6.3"
  }
 },
 "nbformat": 4,
 "nbformat_minor": 2
}
