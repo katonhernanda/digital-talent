{
 "cells": [
  {
   "cell_type": "code",
   "execution_count": 28,
   "metadata": {},
   "outputs": [
    {
     "name": "stdout",
     "output_type": "stream",
     "text": [
      "Katon Hernanda\n",
      "bmi: 20.796729893506402\n",
      "your BMI is Normal\n"
     ]
    }
   ],
   "source": [
    "Nama = \"Katon Hernanda\"\n",
    "berat = 58\n",
    "tinggi = 167\n",
    "tinggi_m = tinggi/100\n",
    "\n",
    "bmi=berat/(tinggi_m**2)\n",
    "print (Nama)\n",
    "print(\"bmi:\", bmi)\n",
    "if bmi<15:\n",
    "    print(\"your BMI is very severely underweight\")\n",
    "elif bmi>=15 and bmi<16:\n",
    "    print(\"your BMI is severely underweight\")\n",
    "elif bmi>=16 and bmi<18.5:\n",
    "    print(\"your BMI is underweight\")\n",
    "elif bmi>=18.5 and bmi<25:\n",
    "    print (\"your BMI is Normal\")\n",
    "elif bmi>=25 and bmi<30:\n",
    "    print (\"your BMI is overweight\")\n",
    "elif bmi>=30 and bmi<35:\n",
    "    print (\"your BMI is moderately obesitas\")\n",
    "elif bmi>=35 and bmi<40:\n",
    "    print (\"your BMI is severely obesitas\")\n",
    "elif bmi>40:\n",
    "    print (\"your BMI is very severely obesitas\")\n",
    "else:\n",
    "    print (\"unknown\")"
   ]
  },
  {
   "cell_type": "code",
   "execution_count": null,
   "metadata": {},
   "outputs": [],
   "source": []
  },
  {
   "cell_type": "code",
   "execution_count": null,
   "metadata": {
    "collapsed": true
   },
   "outputs": [],
   "source": []
  },
  {
   "cell_type": "code",
   "execution_count": null,
   "metadata": {
    "collapsed": true
   },
   "outputs": [],
   "source": []
  }
 ],
 "metadata": {
  "kernelspec": {
   "display_name": "Python 3",
   "language": "python",
   "name": "python3"
  },
  "language_info": {
   "codemirror_mode": {
    "name": "ipython",
    "version": 3
   },
   "file_extension": ".py",
   "mimetype": "text/x-python",
   "name": "python",
   "nbconvert_exporter": "python",
   "pygments_lexer": "ipython3",
   "version": "3.6.3"
  }
 },
 "nbformat": 4,
 "nbformat_minor": 2
}
